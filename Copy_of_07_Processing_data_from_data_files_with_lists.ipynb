{
  "nbformat": 4,
  "nbformat_minor": 0,
  "metadata": {
    "colab": {
      "provenance": [],
      "include_colab_link": true
    },
    "kernelspec": {
      "name": "python3",
      "display_name": "Python 3"
    },
    "language_info": {
      "name": "python"
    }
  },
  "cells": [
    {
      "cell_type": "markdown",
      "metadata": {
        "id": "view-in-github",
        "colab_type": "text"
      },
      "source": [
        "<a href=\"https://colab.research.google.com/github/laurynbaldie/data-and-python/blob/main/Copy_of_07_Processing_data_from_data_files_with_lists.ipynb\" target=\"_parent\"><img src=\"https://colab.research.google.com/assets/colab-badge.svg\" alt=\"Open In Colab\"/></a>"
      ]
    },
    {
      "cell_type": "markdown",
      "source": [
        "# Data in files\n",
        "\n",
        "The most common source of data is in files.  One popular file format is CSV (comma separated values).  CSV files store data in table form with all the data items stored as text and separate by commas.  Data is organised with one record per row.\n",
        "\n",
        "CSV is the smallest format to use, reducing storage space requirements and the time taken to transfer large files from one computer to another.\n",
        "\n",
        "In this worksheet you will be given the code to read a table of data from a CSV file and will be given the column names.  Each column will hold a set of data of the same type (number, text, date).\n",
        "\n",
        "You will be able to make lists following the example, and then use Python to get information (such as length, max, min, sum, average) or to print the list, or particular parts of the list."
      ],
      "metadata": {
        "id": "VmiMFI6NjoER"
      }
    },
    {
      "cell_type": "markdown",
      "source": [
        "---\n",
        "[Video](https://vimeo.com/996732163/eb811ace14?share=copy)"
      ],
      "metadata": {
        "id": "mwpTT0bBk22w"
      }
    },
    {
      "cell_type": "markdown",
      "source": [
        "---\n",
        "### Read the file\n",
        "\n",
        "This code will read the file and create a table from which you can create a lists, following the example.  \n",
        "\n",
        "It uses a library called **pandas** which is built to work with large data files.  It is common to refer to pandas as pd to keep the amount of typing short.  \n",
        "\n",
        "**Run the code to see what the data set looks like**.  As long as you have run this code cell, the data table will always be available lower down in the notebook and will always be called `dataset`."
      ],
      "metadata": {
        "id": "zTtTHzGFk7n2"
      }
    },
    {
      "cell_type": "code",
      "execution_count": null,
      "metadata": {
        "id": "upvde1-2jN8l"
      },
      "outputs": [],
      "source": [
        "import pandas as pd\n",
        "\n",
        "def get_dataset():\n",
        "  url = \"https://raw.githubusercontent.com/futureCodersSE/working-with-data/main/Data%20sets/housing_in_london_yearly_variables.csv\"\n",
        "  return pd.read_csv(url)\n",
        "\n",
        "dataset = get_dataset()\n",
        "display(dataset)"
      ]
    },
    {
      "cell_type": "markdown",
      "source": [
        "---\n",
        "### Get the list of areas\n",
        "\n",
        "To create a list from a column use the code below (this code will get the area column, to get the `median_salary` or the `population_size` column, just replace `area` with an exact copy of the column header).  \n"
      ],
      "metadata": {
        "id": "trEMB63vmJ_s"
      }
    },
    {
      "cell_type": "code",
      "source": [
        "areas = list(dataset['area'])\n",
        "for area in areas:\n",
        "  print(area)"
      ],
      "metadata": {
        "id": "XInrWY5Pmao1"
      },
      "execution_count": null,
      "outputs": []
    },
    {
      "cell_type": "markdown",
      "source": [
        "---\n",
        "### Exercise 1 - sort the areas list into alphabetical order\n",
        "\n",
        "Write a function that will:  \n",
        "*  Use the `.sort()` method to sort the areas into alphabetical order.  \n",
        "*  Use a for loop to print the sorted list"
      ],
      "metadata": {
        "id": "1c2sCNXGn-F0"
      }
    },
    {
      "cell_type": "code",
      "source": [
        "def sort_areas():\n",
        "\n",
        "\n",
        "sort_areas()"
      ],
      "metadata": {
        "id": "IlwGeaGKoe_t"
      },
      "execution_count": null,
      "outputs": []
    },
    {
      "cell_type": "markdown",
      "source": [
        "---\n",
        "### Exercise 2 - create another list\n",
        "\n",
        "Create a new list called **median_salaries**.  Print the `median_salaries` list, one item per line.  \n"
      ],
      "metadata": {
        "id": "S_EzzIH0of4V"
      }
    },
    {
      "cell_type": "code",
      "source": [],
      "metadata": {
        "id": "QYLZsJJUo4Ce"
      },
      "execution_count": null,
      "outputs": []
    },
    {
      "cell_type": "markdown",
      "source": [
        "---\n",
        "### Exercise 3 - print statistics about the median salaries\n",
        "\n",
        "Write a function that will:  \n",
        "\n",
        "*  print the number of salaries in the list\n",
        "*  create a variable called **largest**, assign it the largest salary in the list\n",
        "*  print the value of `largest`\n",
        "*  create a variable called **smallest**, assign it the smallest salary in the list\n",
        "*  print the value of `smallest`\n",
        "*  calculate and print the difference between `largest` and `smallest`\n",
        "*  sort the `median_salaries` list into ascending order\n",
        "*  calculate the `index`(or position) of the value in the middle of the list (as an integer)\n",
        "*  print the item at that position in the list\n",
        "\n",
        "**Expected output**\n",
        "1071\n",
        "61636.0\n",
        "15684.0\n",
        "45952.0\n",
        "32681.0"
      ],
      "metadata": {
        "id": "QxdllmmKo4Y8"
      }
    },
    {
      "cell_type": "code",
      "source": [
        "def create_salary_stats():\n",
        "\n",
        "\n",
        "create_salary_stats()"
      ],
      "metadata": {
        "id": "MOD1_KCwp3R8"
      },
      "execution_count": null,
      "outputs": []
    },
    {
      "cell_type": "markdown",
      "source": [
        "---\n",
        "### Exercise 4 - create a population list\n",
        "\n",
        "Create a new list called **population_sizes**.  Print the `population_sizes` list, one item per line.  "
      ],
      "metadata": {
        "id": "3zIqlNsfp4Ql"
      }
    },
    {
      "cell_type": "code",
      "source": [],
      "metadata": {
        "id": "0NOe4fK9qJgc"
      },
      "execution_count": null,
      "outputs": []
    },
    {
      "cell_type": "markdown",
      "source": [
        "---\n",
        "### Exercise 5 - print some statistics about population sizes\n",
        "\n",
        "Write a function that will:\n",
        "\n",
        "*  print the number of items in the `population_sizes` list\n",
        "*  create a variable called **largest_population**, assign it the largest population size in the list\n",
        "*  print the value of `largest_population`\n",
        "*  create a variable called **smallest_population**, assign it the smallest population size in the list\n",
        "*  print the value of `smallest_population`\n",
        "*  calculate and print the difference between largest and smallest population\n",
        "*  create a variable called **total** to hold the sum of the population_sizes list\n",
        "*  calculate and print the average population per area\n",
        "*  print the total\n",
        "\n",
        "**Expected output**\n",
        "1071\n",
        "66435550.0\n",
        "6581.0\n",
        "66428969.0\n",
        "nan\n",
        "\n",
        "**Note:**  The last output 'nan' is stating that the sum is not a number (nan).  You may have noticed when you printed the list that some numbers were nan.  This is missing data and means that the sum function can't add the numbers up.  You will learn how to deal with this later on in the course."
      ],
      "metadata": {
        "id": "lCi1R9r8qJ87"
      }
    },
    {
      "cell_type": "code",
      "source": [
        "def create_population_stats():\n",
        "\n",
        "\n",
        "create_population_stats()"
      ],
      "metadata": {
        "id": "uOpn1C5frGDl"
      },
      "execution_count": null,
      "outputs": []
    },
    {
      "cell_type": "markdown",
      "source": [
        "---\n",
        "### CHALLENGE (optional)\n",
        "\n",
        "From the exercises above, you know the largest and smallest population_size and you know the largest and smallest median_salary.\n",
        "\n",
        "Write a function that will:\n",
        "*  get new copies of the three lists (`areas`, `median_salaries`, `population_sizes` using the same code as before)\n",
        "*  use the `.index()` function to get the `index` of the largest `median_salary`\n",
        "*  print the `area` that is at this `index` in the `areas` list\n",
        "*  use the `.index()` function to get the `index` of the smallest `population_size`\n",
        "*  print the `area` that is at this `index` in the `areas` list\n",
        "\n",
        "Are the areas the same?  \n",
        "\n",
        "**Question**:  why wouldn't it be appropriate, with this dataset, to see if the area with the largest population_size had the lowest median_salary?  If you are not sure - amend the code below so that it does largest population and smallest median_salary."
      ],
      "metadata": {
        "id": "Ut8XX_vqrGfd"
      }
    },
    {
      "cell_type": "code",
      "source": [
        "def find_areas():\n",
        "\n",
        "\n",
        "find_areas()"
      ],
      "metadata": {
        "colab": {
          "base_uri": "https://localhost:8080/"
        },
        "id": "AOoIZSrVx2CB",
        "outputId": "217a3511-1693-4068-a00c-56386404d9ad"
      },
      "execution_count": null,
      "outputs": [
        {
          "output_type": "stream",
          "name": "stdout",
          "text": [
            "city of london\n",
            "city of london\n"
          ]
        }
      ]
    },
    {
      "cell_type": "markdown",
      "source": [
        "---\n",
        "# Takeaways\n",
        "\n",
        "*  we can use the pandas library to read data from an online CSV file and store it in a table\n",
        "*  the table will have columns with headings and we can convert each column into a list\n",
        "*  sometimes, data is incomplete and some statistics can't be calculate without cleaning up the data"
      ],
      "metadata": {
        "id": "-qs0rbML21GQ"
      }
    },
    {
      "cell_type": "markdown",
      "source": [
        "---\n",
        "# Your thoughts on what you have learnt  \n",
        "\n",
        "Please add some comments in the box below to reflect on what you have learnt through completing this worksheet, and any problems you encountered while doing so."
      ],
      "metadata": {
        "id": "RShmiow13OkX"
      }
    },
    {
      "cell_type": "markdown",
      "source": [],
      "metadata": {
        "id": "PFmb5hzs3Sin"
      }
    }
  ]
}