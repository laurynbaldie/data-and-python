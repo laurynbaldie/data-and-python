{
  "nbformat": 4,
  "nbformat_minor": 0,
  "metadata": {
    "colab": {
      "provenance": [],
      "include_colab_link": true
    },
    "kernelspec": {
      "name": "python3",
      "display_name": "Python 3"
    },
    "language_info": {
      "name": "python"
    }
  },
  "cells": [
    {
      "cell_type": "markdown",
      "metadata": {
        "id": "view-in-github",
        "colab_type": "text"
      },
      "source": [
        "<a href=\"https://colab.research.google.com/github/laurynbaldie/data-and-python/blob/main/Copy_of_04_Working_with_Datetime.ipynb\" target=\"_parent\"><img src=\"https://colab.research.google.com/assets/colab-badge.svg\" alt=\"Open In Colab\"/></a>"
      ]
    },
    {
      "cell_type": "markdown",
      "metadata": {
        "id": "7iQyKP-SQiw1"
      },
      "source": [
        "# User-defined functions using datetime library\n",
        "\n",
        "---\n"
      ]
    },
    {
      "cell_type": "markdown",
      "metadata": {
        "id": "Vi93h5I4QnKs"
      },
      "source": [
        "When working with dates and times, fairly common in data sets, we need to be able to extract certain bits of information.  \n",
        "\n",
        "In Python, as with other languages, dates and times are stored in a data **object** that combines the two together and stores the information as a number of seconds since a start point (often 1st January 1900).  This is obviously a large number but every bit of information about a date can be extracted from it and used to give a wide range of information.  \n",
        "\n",
        "Before you can use datetime functions you will need to import them. Import the datetime function with whichever of these is most appropriate for what you are doing:\n",
        "\n",
        "`from datetime import datetime`   \n",
        "`from datetime import datetime, timedelta`\n",
        "\n",
        "\n",
        "For more information about datetime functions visit [Python docs](https://docs.python.org/3/library/datetime.html)\n",
        "\n",
        "## Watch this [video](https://vimeo.com/989582446/90fd251483?share=copy) before you start"
      ]
    },
    {
      "cell_type": "markdown",
      "metadata": {
        "id": "MIDLi7CNR034"
      },
      "source": [
        "---\n",
        "### Exercise 1 - print current date and time\n",
        "\n",
        "Write a function that will get the date and time now, then print it.  \n",
        "\n",
        "*Hint:  the format has been added for you, the other exercises will follow a similar format.   Always remember to import datetime from datetime as shown below*\n",
        "\n",
        "`datetime.now()` can be used to get the current date and time  \n",
        "\n",
        "We use datetime to create a date/time object containing Year, Month, Day, Hour, Minutes, Seconds.  We can either tell it the date and time, we want it to create or ask it to create the date and time now.\n",
        "\n",
        "You can use:  \n",
        "`now = datetime.now()` to get the current date and time   \n",
        "\n",
        "You may notice that the time is out by an hour (due to British Summer Time).  Later you will see how it is possible to add an hour on when you create the date and time).    \n",
        "\n",
        "Examples of using datetime to create a date and time:  \n",
        "\n",
        "`now = datetime.now()`  \n",
        "`start_date = datetime(2024, 7, 22)` if no time is given, the time will be set to midnight  \n",
        "`end_date_time = datetime(2024, 9,4,19,0,0)`\n",
        "\n",
        "Examples of getting a day, month, year, hour, etc from a datetime (these examples use `end_date_time`):  \n",
        "`day = end_date_time.day`  \n",
        "`month = end_date_time.month`  \n",
        "`minute = end_date_time.minute`  \n",
        "\n",
        "\n",
        "\n",
        "\n"
      ]
    },
    {
      "cell_type": "code",
      "metadata": {
        "id": "gS6GJdXbQfHp",
        "colab": {
          "base_uri": "https://localhost:8080/"
        },
        "outputId": "dd3e1fbc-2dfb-436e-be15-f99fd9c9ed77"
      },
      "source": [
        "from datetime import datetime\n",
        "\n",
        "def get_datetime_now():\n",
        "  # add your code to get the current date and time below here\n",
        "  now = datetime.now()\n",
        "  print(now)\n",
        "\n",
        "\n",
        "get_datetime_now()"
      ],
      "execution_count": null,
      "outputs": [
        {
          "output_type": "stream",
          "name": "stdout",
          "text": [
            "2024-08-04 20:15:22.812637\n"
          ]
        }
      ]
    },
    {
      "cell_type": "markdown",
      "metadata": {
        "id": "Yy24sL0bUtpF"
      },
      "source": [
        "---\n",
        "### Exercise 2 - print the current year\n",
        "\n",
        "Write a function that will get and print the current year.  "
      ]
    },
    {
      "cell_type": "code",
      "metadata": {
        "id": "YqlQqPIqUtyr",
        "colab": {
          "base_uri": "https://localhost:8080/"
        },
        "outputId": "d2fbd383-67e5-4622-be77-c38a916a78c5"
      },
      "source": [
        "from datetime import datetime\n",
        "def current_year():\n",
        "  now = datetime.now()\n",
        "  year = now.year\n",
        "  print(year)\n",
        "current_year()\n"
      ],
      "execution_count": null,
      "outputs": [
        {
          "output_type": "stream",
          "name": "stdout",
          "text": [
            "2024\n"
          ]
        }
      ]
    },
    {
      "cell_type": "markdown",
      "metadata": {
        "id": "FzSVCaJKV1O1"
      },
      "source": [
        "---\n",
        "### Exercise 3 - print the current day of the week\n",
        "\n",
        "Write a function that will get and print the current day of the week.  "
      ]
    },
    {
      "cell_type": "code",
      "metadata": {
        "id": "OP4ZIXBWV1Yj",
        "colab": {
          "base_uri": "https://localhost:8080/"
        },
        "outputId": "9ba4a421-ec9b-4ad1-c47f-d9361dc541db"
      },
      "source": [
        "from datetime import datetime, timedelta\n",
        "def current_day():\n",
        "  now = datetime.now()\n",
        "  day = now.day\n",
        "  print(day)\n",
        "current_day()\n",
        "# i'm interpreting this question as asking for a day eg word but not sure how to get to that, have number of day of month"
      ],
      "execution_count": null,
      "outputs": [
        {
          "output_type": "stream",
          "name": "stdout",
          "text": [
            "5\n"
          ]
        }
      ]
    },
    {
      "cell_type": "markdown",
      "metadata": {
        "id": "a8euCtdmWIDE"
      },
      "source": [
        "---\n",
        "### Exercise 4 - create a new date\n",
        "\n",
        "Write a function that will set 3 variables: day, month, year ( with 3 numbers that make a valid date) and will create, and print."
      ]
    },
    {
      "cell_type": "code",
      "metadata": {
        "id": "FbOFnTwnWILN",
        "colab": {
          "base_uri": "https://localhost:8080/"
        },
        "outputId": "ca0d6aeb-a3d8-41e3-d462-b81eebeafd5f"
      },
      "source": [
        "def set_date(y, m, d):\n",
        "  date = datetime(y, m, d).strftime(\"%a %d-%m-%Y\")\n",
        "  print(date)\n",
        "set_date(2021, 5, 18)"
      ],
      "execution_count": null,
      "outputs": [
        {
          "output_type": "stream",
          "name": "stdout",
          "text": [
            "Tue 18-05-2021\n"
          ]
        }
      ]
    },
    {
      "cell_type": "markdown",
      "metadata": {
        "id": "f5SKVuE0WfcE"
      },
      "source": [
        "---\n",
        "### Exercise 5 - create a date and time and use strftime() to print\n",
        "\n",
        "Write a function that ask the user to enter a day, month, year, hour, minute, second (6 numbers) and will the :  \n",
        "*   create a new datetime with that date and time  \n",
        "*   print the date and time as shown in the expected output below.  \n",
        "\n",
        "**Note:** You will need to join some strings together to create the message. Each part of the date will need to be converted to a string.  Do this with the datetime function strftime:  \n",
        "\n",
        " e.g. day.strftime(%d), month.strftime(%m), year.strftime(%Y), etc as you can only join strings with strings.  To find the codes for hour, minute and second visit [strftime.org](https://strftime.org/)\n",
        "\n",
        "**Test inputs**:  \n",
        "24  \n",
        "7  \n",
        "2024  \n",
        "17  \n",
        "30  \n",
        "0\n",
        "\n",
        "**Expected output**\n",
        "The set date is 24/7/2024 and time is 17.30.0"
      ]
    },
    {
      "cell_type": "code",
      "metadata": {
        "id": "gclt-f9-XfdG",
        "colab": {
          "base_uri": "https://localhost:8080/"
        },
        "outputId": "a2232bb5-ba8e-4fe4-975b-50f56507f6ef"
      },
      "source": [
        "def enter_date():\n",
        "  day = int(input(\"Please enter a day: \"))\n",
        "  month = int(input(\"Please enter a month: \"))\n",
        "  year = int(input(\"Please enter a year: \"))\n",
        "  hour = int(input(\"Please enter a hour: \"))\n",
        "  minute = int(input(\"Please enter a minute: \"))\n",
        "  second = int(input(\"Please enter a second: \"))\n",
        "  date = datetime(year, month, day, hour, minute, second)\n",
        "  date_without_time = date.strftime(\"%d/%m/%Y\")\n",
        "  time = date.strftime(\"%-H.%M.%-S\")\n",
        "\n",
        "\n",
        "  print(f\"The set date is {date_without_time} and time is {time}\")\n",
        "enter_date()"
      ],
      "execution_count": null,
      "outputs": [
        {
          "output_type": "stream",
          "name": "stdout",
          "text": [
            "Please enter a day: 24\n",
            "Please enter a month: 7\n",
            "Please enter a year: 2024\n",
            "Please enter a hour: 17\n",
            "Please enter a minute: 30\n",
            "Please enter a second: 0\n",
            "The set date is 24/07/2024 and time is 17.30.0\n"
          ]
        }
      ]
    },
    {
      "cell_type": "markdown",
      "metadata": {
        "id": "js7fy2HWXfm2"
      },
      "source": [
        "---\n",
        "### Exercise 6 - show the date and time in different formats\n",
        "\n",
        "Write a function that will create the same date as before but will then print it in the following 2 formats (using strftime again)\n",
        "\n",
        "Wed 24 July 2024 at 1730 hours  \n",
        "30 minutes past 5pm on July 24 2024\n",
        "\n",
        "*Hint: use 12 hour clock as decimal and remember that you can convert a string to lower case for pm.*"
      ]
    },
    {
      "cell_type": "code",
      "metadata": {
        "id": "KY1jtf3lX_ps",
        "colab": {
          "base_uri": "https://localhost:8080/"
        },
        "outputId": "f3ecfced-1e1b-4c43-e3ad-cf7522bcf287"
      },
      "source": [
        "def enter_date():\n",
        "  day = int(input(\"Please enter a day: \"))\n",
        "  month = int(input(\"Please enter a month: \"))\n",
        "  year = int(input(\"Please enter a year: \"))\n",
        "  hour = int(input(\"Please enter a hour: \"))\n",
        "  minute = int(input(\"Please enter a minute: \"))\n",
        "  second = int(input(\"Please enter a second: \"))\n",
        "  date = datetime(year, month, day, hour, minute, second)\n",
        "  # format 1: date then 24 hour clock (ex: Wed 24 July 2024 at 1730 hours)\n",
        "  date_24_hour_clock = date.strftime(\"%a %-d %B %Y at %H:%M hours\")\n",
        "\n",
        "  # format 2: 12 hour clock (ex: 30 minutes past 5pm on July 24 2024)\n",
        "\n",
        "  date_12_hour_clock = date.strftime(\"%-M minutes past %-I on %B %d %Y\")\n",
        "\n",
        "  # print both formats\n",
        "  print(date_24_hour_clock)\n",
        "  print(date_12_hour_clock)\n",
        "enter_date()\n"
      ],
      "execution_count": null,
      "outputs": [
        {
          "output_type": "stream",
          "name": "stdout",
          "text": [
            "Please enter a day: 24\n",
            "Please enter a month: 7\n",
            "Please enter a year: 2024\n",
            "Please enter a hour: 17\n",
            "Please enter a minute: 30\n",
            "Please enter a second: 0\n",
            "Wed 24 July 2024 at 17:30 hours\n",
            "30 minutes past 5 on July 24 2024\n"
          ]
        }
      ]
    },
    {
      "cell_type": "markdown",
      "metadata": {
        "id": "9BuRDi08YAO0"
      },
      "source": [
        "---\n",
        "### Exercise 7 - display parts of date/time\n",
        "\n",
        "Write a function that will take a date and print from it the following:  \n",
        "*  given date and time  \n",
        "*  year (in full)\n",
        "*  month (as a number)\n",
        "*  month name\n",
        "*  week number of the year  \n",
        "*  weekday of the week (as a number)  \n",
        "*  day of year  \n",
        "*  day of the month  \n",
        "*  day of week (as a short name)  \n"
      ]
    },
    {
      "cell_type": "code",
      "metadata": {
        "id": "zl-37Ez9ahym",
        "colab": {
          "base_uri": "https://localhost:8080/"
        },
        "outputId": "132ea4a1-e50c-4e24-fc07-076b29a4cca5"
      },
      "source": [
        "def display_parts_of_date_or_time(y, m, d):\n",
        "  date_and_time = datetime(y, m, d).strftime(\"%-d/%-m/%Y %I:%M:%S\")\n",
        "  year_in_full = datetime(y, m, d).strftime(\"%Y\")\n",
        "  month_as_number = datetime(y, m, d).strftime(\"%-m\")\n",
        "  month_name = datetime(y, m, d).strftime(\"%B\")\n",
        "  week_number = datetime(y, m, d).strftime(\"%U\")\n",
        "  weekday_of_week_number = datetime(y, m, d).strftime(\"%w\")\n",
        "  day_of_year = datetime(y, m, d).strftime(\"%-j\")\n",
        "  day_of_month = datetime(y, m, d).strftime(\"%-d\")\n",
        "  day_of_week_short_name = datetime(y, m, d).strftime(\"%b\")\n",
        "\n",
        "\n",
        "# print\n",
        "  print(date_and_time)\n",
        "  print(year_in_full)\n",
        "  print(month_as_number)\n",
        "  print(month_name)\n",
        "  print(week_number)\n",
        "  print(weekday_of_week_number)\n",
        "  print(day_of_year)\n",
        "  print(day_of_month)\n",
        "  print(day_of_week_short_name)\n",
        "\n",
        "display_parts_of_date_or_time(1999, 5, 10)\n",
        "\n",
        "\n",
        "\n",
        "\n"
      ],
      "execution_count": null,
      "outputs": [
        {
          "output_type": "stream",
          "name": "stdout",
          "text": [
            "10/5/1999 12:00:00\n",
            "1999\n",
            "5\n",
            "May\n",
            "19\n",
            "1\n",
            "130\n",
            "10\n",
            "May\n"
          ]
        }
      ]
    },
    {
      "cell_type": "markdown",
      "source": [
        "---\n",
        "# strptime\n",
        "The **strptime(**) function will help you to create a new datetime object from a string, rather than supplying the year, month, day, hour, etc as separate numbers.\n",
        "\n",
        "In data processing, dates often appear as strings and so being able to convert them into datetime data easily is very useful.\n",
        "\n",
        "`strptime()` uses the same formatting characters as `strftime()` so you can just supply date in text format and tell it what the format is.  \n",
        "\n",
        "e.g.  \n",
        "```\n",
        "date_string = \"11-24-1990\"\n",
        "new_date = datetime.strptime(date_string, \"%m-%d-%Y\")\n",
        "```\n",
        "If you only want to print the date you can use datetime.date()."
      ],
      "metadata": {
        "id": "6zhQ3j6OkIi9"
      }
    },
    {
      "cell_type": "markdown",
      "source": [
        "---\n",
        "### Exercise 8 - create a datetime from a string\n",
        "\n",
        "Write a function that will:  \n",
        "* create a string to hold a date in the format yyyy:dd:mm\n",
        "* print just the date\n",
        "* print date in the format as shown below:  \n",
        "`day name-day number-short month-year`  \n",
        "\n",
        "Test input:  \n",
        "2023:12:2\n",
        "\n",
        "Expected output:\n",
        "  \n",
        "Sun 12 Feb 2023"
      ],
      "metadata": {
        "id": "Ww3txeHOh7Rm"
      }
    },
    {
      "cell_type": "code",
      "source": [
        "def datetime_from_string():\n",
        "  date_string = \"2023:12:02\"\n",
        "  new_date = datetime.strptime(date_string, \"%Y:%m:%d\")\n",
        "  print(new_date)\n",
        "  formatted_date = datetime.strftime(\"%a %-d %b %Y\")\n",
        "  print(formatted_date)\n",
        "datetime_from_string()\n"
      ],
      "metadata": {
        "id": "J0pX60wpiVrM",
        "colab": {
          "base_uri": "https://localhost:8080/",
          "height": 315
        },
        "outputId": "baa8671b-0580-4a9d-92b2-0786dfd996be"
      },
      "execution_count": null,
      "outputs": [
        {
          "output_type": "stream",
          "name": "stdout",
          "text": [
            "2023-12-02 00:00:00\n"
          ]
        },
        {
          "output_type": "error",
          "ename": "TypeError",
          "evalue": "descriptor 'strftime' for 'datetime.date' objects doesn't apply to a 'str' object",
          "traceback": [
            "\u001b[0;31m---------------------------------------------------------------------------\u001b[0m",
            "\u001b[0;31mTypeError\u001b[0m                                 Traceback (most recent call last)",
            "\u001b[0;32m<ipython-input-44-984556230af1>\u001b[0m in \u001b[0;36m<cell line: 7>\u001b[0;34m()\u001b[0m\n\u001b[1;32m      5\u001b[0m   \u001b[0mformatted_date\u001b[0m \u001b[0;34m=\u001b[0m \u001b[0mdatetime\u001b[0m\u001b[0;34m.\u001b[0m\u001b[0mstrftime\u001b[0m\u001b[0;34m(\u001b[0m\u001b[0;34m\"%a %-d %b %Y\"\u001b[0m\u001b[0;34m)\u001b[0m\u001b[0;34m\u001b[0m\u001b[0;34m\u001b[0m\u001b[0m\n\u001b[1;32m      6\u001b[0m   \u001b[0mprint\u001b[0m\u001b[0;34m(\u001b[0m\u001b[0mformatted_date\u001b[0m\u001b[0;34m)\u001b[0m\u001b[0;34m\u001b[0m\u001b[0;34m\u001b[0m\u001b[0m\n\u001b[0;32m----> 7\u001b[0;31m \u001b[0mdatetime_from_string\u001b[0m\u001b[0;34m(\u001b[0m\u001b[0;34m)\u001b[0m\u001b[0;34m\u001b[0m\u001b[0;34m\u001b[0m\u001b[0m\n\u001b[0m",
            "\u001b[0;32m<ipython-input-44-984556230af1>\u001b[0m in \u001b[0;36mdatetime_from_string\u001b[0;34m()\u001b[0m\n\u001b[1;32m      3\u001b[0m   \u001b[0mnew_date\u001b[0m \u001b[0;34m=\u001b[0m \u001b[0mdatetime\u001b[0m\u001b[0;34m.\u001b[0m\u001b[0mstrptime\u001b[0m\u001b[0;34m(\u001b[0m\u001b[0mdate_string\u001b[0m\u001b[0;34m,\u001b[0m \u001b[0;34m\"%Y:%m:%d\"\u001b[0m\u001b[0;34m)\u001b[0m\u001b[0;34m\u001b[0m\u001b[0;34m\u001b[0m\u001b[0m\n\u001b[1;32m      4\u001b[0m   \u001b[0mprint\u001b[0m\u001b[0;34m(\u001b[0m\u001b[0mnew_date\u001b[0m\u001b[0;34m)\u001b[0m\u001b[0;34m\u001b[0m\u001b[0;34m\u001b[0m\u001b[0m\n\u001b[0;32m----> 5\u001b[0;31m   \u001b[0mformatted_date\u001b[0m \u001b[0;34m=\u001b[0m \u001b[0mdatetime\u001b[0m\u001b[0;34m.\u001b[0m\u001b[0mstrftime\u001b[0m\u001b[0;34m(\u001b[0m\u001b[0;34m\"%a %-d %b %Y\"\u001b[0m\u001b[0;34m)\u001b[0m\u001b[0;34m\u001b[0m\u001b[0;34m\u001b[0m\u001b[0m\n\u001b[0m\u001b[1;32m      6\u001b[0m   \u001b[0mprint\u001b[0m\u001b[0;34m(\u001b[0m\u001b[0mformatted_date\u001b[0m\u001b[0;34m)\u001b[0m\u001b[0;34m\u001b[0m\u001b[0;34m\u001b[0m\u001b[0m\n\u001b[1;32m      7\u001b[0m \u001b[0mdatetime_from_string\u001b[0m\u001b[0;34m(\u001b[0m\u001b[0;34m)\u001b[0m\u001b[0;34m\u001b[0m\u001b[0;34m\u001b[0m\u001b[0m\n",
            "\u001b[0;31mTypeError\u001b[0m: descriptor 'strftime' for 'datetime.date' objects doesn't apply to a 'str' object"
          ]
        }
      ]
    },
    {
      "cell_type": "markdown",
      "metadata": {
        "id": "_rpTIoSDaiBj"
      },
      "source": [
        "---\n",
        "### Exercise 9 - next 6 days - a challenge\n",
        "\n",
        "**Scenario**\n",
        "\n",
        "The timedelta function is part of the datetime library and will allow you to create a value to represent a number of days (or months, etc) so that you can create a date in the future (like an expiry date).\n",
        "\n",
        "Watch this [video](https://vimeo.com/989587133/fccf9cb783?share=copy) to see timedelta in use\n",
        "\n",
        "**Your task**\n",
        "\n",
        "Write a function that will take a date and generate the dates of the following 6 days.  It should print each of the 6 days in this format:  \n",
        "\n",
        "e.g.  \n",
        "Friday, May 24 2024  \n",
        "Saturday, May 25 2024  \n",
        "Sunday, May 26 2024\n",
        "Monday, May 27 2024\n",
        "Tuesday, May\n",
        "\n",
        "*Hint:  to generate the days, use the function datetime.timedelta(), there is a good example of its use [here](https://www.geeksforgeeks.org/python-datetime-timedelta-function/) *\n",
        "\n",
        "DON'T FORGET TO IMPORT timedelta as well as datetime"
      ]
    },
    {
      "cell_type": "code",
      "metadata": {
        "id": "1d-oXqLLb0vX",
        "colab": {
          "base_uri": "https://localhost:8080/"
        },
        "outputId": "5d67b90a-afb7-4854-88c8-c7e87dfc10a3"
      },
      "source": [
        "from datetime import datetime, timedelta\n",
        "\n",
        "date = datetime(2024, 5, 23)\n",
        "day1 = date + timedelta(days=1)\n",
        "print(day1.strftime(\"%A, %B %d %Y\"))"
      ],
      "execution_count": null,
      "outputs": [
        {
          "output_type": "stream",
          "name": "stdout",
          "text": [
            "Friday, May 24 2024\n"
          ]
        }
      ]
    },
    {
      "cell_type": "markdown",
      "metadata": {
        "id": "22Rhwx2Sb1Ey"
      },
      "source": [
        "---\n",
        "### Optional extra practice\n",
        "\n",
        "There are some similar and some more challenging exercises [here](https://www.w3resource.com/python-exercises/date-time-exercise/) if you would like to practice more. The site has its own editor."
      ]
    },
    {
      "cell_type": "markdown",
      "source": [
        "---\n",
        "# Takeaways\n",
        "\n",
        "* the datetime library has a number of functions for working with dates\n",
        "* you have used the `datetime` function and `timedelta` function\n",
        "* the `strftime()` function helps you to format parts of the date and time into strings to help format the data into text and the `strptime()` function helps you to create dates with differently organised date strings\n",
        "* changing the format of dates is a common data cleaning task"
      ],
      "metadata": {
        "id": "ebyScSG_hKFV"
      }
    },
    {
      "cell_type": "markdown",
      "source": [
        "# Your thoughts on what you have learnt  \n",
        "\n",
        "Please add some comments in the box below to reflect on what you have learnt through completing this worksheet, and any problems you encountered while doing so.\n"
      ],
      "metadata": {
        "id": "zXCWqmiOpIME"
      }
    },
    {
      "cell_type": "markdown",
      "source": [
        "struggled with exercise 8 - showing this error (TypeError: descriptor 'strftime' for 'datetime.date' objects doesn't apply to a 'str' object) which i couldn;'t make sense of. I'm continuing to struggle with converting strings so i dont continue to get these types of errors."
      ],
      "metadata": {
        "id": "oDwUX3jVpTIr"
      }
    }
  ]
}