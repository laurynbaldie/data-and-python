{
  "nbformat": 4,
  "nbformat_minor": 0,
  "metadata": {
    "colab": {
      "provenance": [],
      "include_colab_link": true
    },
    "kernelspec": {
      "name": "python3",
      "display_name": "Python 3"
    },
    "language_info": {
      "name": "python"
    }
  },
  "cells": [
    {
      "cell_type": "markdown",
      "metadata": {
        "id": "view-in-github",
        "colab_type": "text"
      },
      "source": [
        "<a href=\"https://colab.research.google.com/github/laurynbaldie/data-and-python/blob/main/Worksheets/11_User_defined_functions.ipynb\" target=\"_parent\"><img src=\"https://colab.research.google.com/assets/colab-badge.svg\" alt=\"Open In Colab\"/></a>"
      ]
    },
    {
      "cell_type": "markdown",
      "metadata": {
        "id": "_mb8Es9TZFdY"
      },
      "source": [
        "# User-defined functions"
      ]
    },
    {
      "cell_type": "markdown",
      "metadata": {
        "id": "yDPndJACZJKA"
      },
      "source": [
        "---\n",
        "During this course, you have already been writing user-defined functions.  We have introduced these early so that they become second nature to use.   \n",
        "\n",
        "Python is a 'scripting' language, which means that you can just write a list of instructions and click run and it will just run them from first to last.  Many other programming languages, including C, C++ and Java, have a structure where you must group instructions into a named set (like a function) before you can run them.  It will be easier to learn new languages later if you have an understanding of the organisation of code into functions.\n",
        "\n",
        "## Definition\n",
        "\n",
        "A function is a set of programming instructions, grouped together and named so that, in essence, they form a new instruction that can be used in other functions.\n",
        "\n",
        "A function should:\n",
        "*   do *one* particular thing (e.g. generate one new piece of data)\n",
        "*   have a *name* that indicates what it does, that name should contain a verb (e.g. get_username(), calculate_sum() )\n",
        "*   accept a number of data items as *parameters* in its brackets\n",
        "*   *return* the one new piece of data it produces or None if no new data is produced.\n",
        "\n",
        "---\n",
        "## Examples\n",
        "Run the code for each to see what it does.\n",
        "\n",
        "\n",
        "\n",
        "\n"
      ]
    },
    {
      "cell_type": "code",
      "metadata": {
        "id": "BRlxHaF9YtoB"
      },
      "source": [
        "# a function that takes NO parameters but returns new data collected from the user\n",
        "def get_username():\n",
        "  username = input(\"Enter your username: \")\n",
        "  return username\n",
        "\n",
        "username = get_username()\n",
        "print(username)"
      ],
      "execution_count": null,
      "outputs": []
    },
    {
      "cell_type": "markdown",
      "metadata": {
        "id": "RsSaHvS_bx0i"
      },
      "source": [
        "---\n"
      ]
    },
    {
      "cell_type": "code",
      "metadata": {
        "id": "DraANPGIbd13"
      },
      "source": [
        "# a function that takes two number parameters and returns their sum\n",
        "def calculate_sum(num1, num2):\n",
        "  sum = num1 + num2\n",
        "  return sum\n",
        "\n",
        "total = calculate_sum(4, 7)\n",
        "print(total)"
      ],
      "execution_count": null,
      "outputs": []
    },
    {
      "cell_type": "markdown",
      "metadata": {
        "id": "IaybFpHvbziA"
      },
      "source": [
        "---\n"
      ]
    },
    {
      "cell_type": "code",
      "metadata": {
        "id": "pEldozw1bw9K",
        "colab": {
          "base_uri": "https://localhost:8080/"
        },
        "outputId": "86ae3b56-e1f9-45b1-b75e-9e25b26d2630"
      },
      "source": [
        "# a function that takes one numeric parameter and outputs the number as a string in a message\n",
        "def show_score(score):\n",
        "  print(\"Your current score is: \" + str(score) + \"%\")\n",
        "\n",
        "show_score(50)"
      ],
      "execution_count": null,
      "outputs": [
        {
          "output_type": "stream",
          "name": "stdout",
          "text": [
            "Your current score is: 50%\n"
          ]
        }
      ]
    },
    {
      "cell_type": "markdown",
      "metadata": {
        "id": "S54v0BzZfcle"
      },
      "source": [
        "---\n",
        "## Passing data to functions\n",
        "\n",
        "Data is passed to a function through its brackets.  The brackets contain the parameter list.  The list can contain zero or more parameters.\n",
        "\n",
        "When the function is called, the parameters (either real values or variables holding values) are added to the function call."
      ]
    },
    {
      "cell_type": "code",
      "metadata": {
        "id": "nPaM_x2cg2EI"
      },
      "source": [
        "# example of a function being given real values (5,7,'+') and reading them as variables to be used within the function- can you work out what it does?\n",
        "def calculate_answer(num1, num2, operator):\n",
        "  if operator == \"+\":\n",
        "     return num1 + num2\n",
        "  elif operator == \"-\":\n",
        "     return num1 - num2\n",
        "  elif operator == \"*\":\n",
        "     return num1 * num2\n",
        "  elif operator == \"/\":\n",
        "     return num1 / num2\n",
        "  else:\n",
        "     return -999999\n",
        "\n",
        "answer = calculate_answer(5,7,\"+\")\n",
        "print(answer)"
      ],
      "execution_count": null,
      "outputs": []
    },
    {
      "cell_type": "markdown",
      "metadata": {
        "id": "4u3jcpUWg56N"
      },
      "source": [
        "To pass values easily to the function, just add the values in the same order that they are listed in the function definition.  Make sure that the values you pass in are of a type that the function obviously expects."
      ]
    },
    {
      "cell_type": "markdown",
      "metadata": {
        "id": "2pN0AVaTh-HP"
      },
      "source": [
        "---\n",
        "## Global and local variables\n",
        "\n",
        "Each variable in a Python program has a **scope**.  This determines which parts of the program can 'see' that variable. The advantage of variable scope is that it:\n",
        "*   can protect variables from being changed elsewhere in the program due to adding a variable with the same name\n",
        "*   reduces the number of different variable names needed.  If a total in one function is unconnected to a total in a different function they can have the same name and only exist while the function each is in is actually running.  This also saves on memory.\n",
        "\n",
        "[Video]()"
      ]
    },
    {
      "cell_type": "code",
      "metadata": {
        "colab": {
          "base_uri": "https://localhost:8080/"
        },
        "id": "Ww0WCrVBhNLm",
        "outputId": "dd638b9a-8592-4715-b901-fe05f8da7575"
      },
      "source": [
        "def calculate_sum(num1, num2):\n",
        "  # add the parameters together and return the total\n",
        "  total = num1 + num2  # here total is a local variable\n",
        "  print(\"Inside the function, local total\", total)\n",
        "  return total\n",
        "\n",
        "total = 0  # here total is a global variable (declared outside any function)\n",
        "\n",
        "# call the calculate_sum function, storing the result in the global variable\n",
        "new_total = calculate_sum(10, 20)\n",
        "print(\"Outside the function, global total\", total)\n",
        "print(\"Outside the function, global new_total, returned from function\", new_total)"
      ],
      "execution_count": null,
      "outputs": [
        {
          "output_type": "stream",
          "text": [
            "Inside the function, local total 30\n",
            "Outside the function, global total 0\n",
            "Outside the function, global new_total, returned from function 30\n"
          ],
          "name": "stdout"
        }
      ]
    },
    {
      "cell_type": "markdown",
      "metadata": {
        "id": "VQ2bk-Qo7jC7"
      },
      "source": [
        "---\n",
        "# Have a go"
      ]
    },
    {
      "cell_type": "markdown",
      "metadata": {
        "id": "iK9GF4T274Na"
      },
      "source": [
        "---\n",
        "### Exercise 1 - get valid digit\n",
        "\n",
        "Write a function called **input_digit()** which will:\n",
        "*  ask the user for a **number** that must be between 0 and 9\n",
        "*  if the number is between 0 and 9 return the number to be printed by the caller\n",
        "*  otherwise return the message \"That number is not valid\" to be printed by the caller   \n",
        "\n",
        "**Test inputs**:  \n",
        "33  \n",
        "-1  \n",
        "8  \n",
        "\n",
        "**Expected outputs**:  \n",
        "Number is not valid  \n",
        "Number is not valid  \n",
        "8  "
      ]
    },
    {
      "cell_type": "code",
      "metadata": {
        "id": "lwN-VvkH8Skt"
      },
      "source": [],
      "execution_count": null,
      "outputs": []
    },
    {
      "cell_type": "markdown",
      "metadata": {
        "id": "v-qE3qQ58THx"
      },
      "source": [
        "---\n",
        "### Exercise 2 - input range\n",
        "\n",
        "Write a function called **input_value(min, max)** which will:  \n",
        "*  read a **number** that must be between `min` and `max` and only return the `number` if it is within the limits.  The caller will print the `number`.\n",
        "\n",
        "**Test inputs**:  \n",
        "min = 3  \n",
        "max = 24  \n",
        "1  \n",
        "45  \n",
        "20  \n",
        "\n",
        "**Expected outputs**:  \n",
        "Number is out of range  \n",
        "Number is out of range  \n",
        "20"
      ]
    },
    {
      "cell_type": "code",
      "metadata": {
        "id": "PKAlW0sr9XR1"
      },
      "source": [],
      "execution_count": null,
      "outputs": []
    },
    {
      "cell_type": "markdown",
      "metadata": {
        "id": "MXhunQBG9XkU"
      },
      "source": [
        "---\n",
        "### Exercise 3 - re-using the function\n",
        "\n",
        "Using the same function as in Exercise 2 above, try running it with these function calls:\n",
        "\n",
        "```\n",
        "value1 = input_value(1,10)\n",
        "value2 = input_value(11,20)\n",
        "value3 = input_value(21,30)\n",
        "print(value1, value2, value3)\n",
        "```"
      ]
    },
    {
      "cell_type": "code",
      "metadata": {
        "id": "oVpQJ3ZM9xCJ"
      },
      "source": [],
      "execution_count": null,
      "outputs": []
    },
    {
      "cell_type": "markdown",
      "metadata": {
        "id": "P0QwTt7O9xUz"
      },
      "source": [
        "---\n",
        "### Exercise 4 - generate random even number\n",
        "\n",
        "Write a function called **generate_even_number(maximum)** that will generate a random, even **number**, below the maximum and return it to the caller, which will print it.\n",
        "\n",
        "*Hint: the function will need to generate the number, check it is an even number, repeat if not and return the number once it has got an even number*."
      ]
    },
    {
      "cell_type": "code",
      "metadata": {
        "id": "1ccTQxUa-Ok7"
      },
      "source": [],
      "execution_count": null,
      "outputs": []
    },
    {
      "cell_type": "markdown",
      "metadata": {
        "id": "LYLGRytk-Ot6"
      },
      "source": [
        "---\n",
        "### Exercise 5 - biggest of 3 numbers\n",
        "\n",
        "Write a function called **check_largest(num1, num2, num3)** which will:  \n",
        "*  select the largest of `num1`, `num2` and `num3` and store this in a variable called **largest**\n",
        "*  return `largest` to the caller, where it will be printed.\n",
        "\n",
        "**Test inputs**:  \n",
        "check_largest(3,5,8)  \n",
        "check_largest(5,7,2)  \n",
        "check_largest(123,45,122)\n",
        "\n",
        "**Expected outputs**:  \n",
        "8  \n",
        "7  \n",
        "123  "
      ]
    },
    {
      "cell_type": "code",
      "metadata": {
        "id": "S_LeqEVd__Cc"
      },
      "source": [],
      "execution_count": null,
      "outputs": []
    },
    {
      "cell_type": "markdown",
      "metadata": {
        "id": "NG2u2VT-CwO6"
      },
      "source": [
        "---\n",
        "### Exercise 6 - reverse a string\n",
        "\n",
        " Write a function called **reverse_string(word)** which will:  \n",
        "\n",
        " *  reverse the letters in the word  \n",
        " *  return the **reversed** `word` for printing\n",
        "\n",
        "[Help if you need it](https://www.w3schools.com/python/python_howto_reverse_string.asp)  \n",
        "\n",
        " **Test input**:  \n",
        " tiger  \n",
        "\n",
        "**Expected output**:  \n",
        " regit\n",
        "\n",
        " **Test input**:  \n",
        " Expected\n",
        "\n",
        " **Expected output**:  \n",
        " detcepxE"
      ]
    },
    {
      "cell_type": "code",
      "metadata": {
        "id": "BFTEfne8APF5"
      },
      "source": [],
      "execution_count": null,
      "outputs": []
    },
    {
      "cell_type": "markdown",
      "metadata": {
        "id": "cbrFvknfAO05"
      },
      "source": [
        "---\n",
        "### Exercise 6 - average of a list of numbers\n",
        "\n",
        "Write a function **calculate_average(num_list)** which will calculate the average of the list of numbers given, then return the number to the caller which will print it.  \n",
        "\n",
        "**Test inputs**:   \n",
        "list_1 = [1,2,3,4,5]\n",
        "calculate_average(list_1)\n",
        "\n",
        "list_2 = [10002, 30004, 5005, 3333333, 12345]\n",
        "calculate_average(list_2)  \n",
        "\n",
        "**Expected outputs**:  \n",
        "3.0  \n",
        "678137.8"
      ]
    },
    {
      "cell_type": "code",
      "metadata": {
        "id": "lSHhdyhUBRKr"
      },
      "source": [],
      "execution_count": null,
      "outputs": []
    },
    {
      "cell_type": "markdown",
      "metadata": {
        "id": "x-JvvWUVFvY8"
      },
      "source": [
        "---\n",
        "### Exercise 8 - palindrome  \n",
        "\n",
        "Write a function called **is_palindrome(word)** which will return True if the `word` passed in is a palindrome (ie it reads the same in reverse) and False if not.\n",
        "\n",
        "*Hint:  remember that upper case and lower case letters are not seen as the same by Python, there are [case conversion](https://www.codecademy.com/learn/learn-python-3/modules/learn-python3-strings/cheatsheet) functions you can use to help with this.*\n",
        "\n",
        "**Test input**:  \n",
        "is_palindrome(\"racecar\")  \n",
        "is_palindrome(\"Racecar\")  \n",
        "is_palindrome(\"banana\")  \n",
        "\n",
        "**Expected output**:  \n",
        "True  \n",
        "True  \n",
        "False  "
      ]
    },
    {
      "cell_type": "code",
      "metadata": {
        "id": "OdHYWCJMCwaI"
      },
      "source": [],
      "execution_count": null,
      "outputs": []
    },
    {
      "cell_type": "markdown",
      "metadata": {
        "id": "QPHDjtXXEJ92"
      },
      "source": [
        "---\n",
        "### Exercise 9 - find factorial\n",
        "\n",
        "Write a function called **calculate_factorial(num)** which will:\n",
        "\n",
        "*  if `num` is negative set **factorial** to -1\n",
        "*  if `num` isn't negative, if it is 0 then set `factorial` to 1\n",
        "*  if `num` isn't 0 then calculate `factorial` (multiply the numbers from `num` down to 1 using a loop)\n",
        "*  return `factorial`.   \n",
        "\n",
        "**Test inputs**:  \n",
        "calculate_factorial(5)  \n",
        "calculate_factorial(-5)  \n",
        "calculate_factorial(0)    \n",
        "\n",
        "**Expected outputs**:  \n",
        "120  \n",
        "-1  \n",
        "1    "
      ]
    },
    {
      "cell_type": "code",
      "metadata": {
        "id": "QAln19ReEKH5"
      },
      "source": [],
      "execution_count": null,
      "outputs": []
    },
    {
      "cell_type": "markdown",
      "metadata": {
        "id": "Z58a7qa1BQ6j"
      },
      "source": [
        "---\n",
        "### Exercise 10 - passing data between functions - calculate price and apply discount\n",
        "\n",
        "Write a function called **calculate_price(product_price, num_items)** which will:\n",
        "\n",
        "*  calculate the total cost of the items, from the `product_price` and `num_items`\n",
        "*  return the `total`\n",
        "\n",
        "Write a second function **calculate_discount_price(total_price)** that will:\n",
        "\n",
        "*  ask the user to enter any **discount** they have (this can be 10% or 25% only), if the discount value is invalid, do not apply a discount   \n",
        "*  calculate the price of the items after the discount is applied\n",
        "*  return the `discounted_price` to be printed by the caller.\n",
        "\n",
        "Call the first function, with the given `product_price` and `num_items` and store the returned value in a variable called **total**  \n",
        "\n",
        "Call the second function, with the `total`, store the result in a variable called **discounted_price**, then print `discounted_price`\n",
        "\n",
        "Here is what it would look like:\n",
        "\n",
        "**Test input**:  \n",
        "Test with a product_price of 3.50, 4 items, and enter a discount of 10%   \n",
        "```\n",
        "total = calculate_price(3.50, 4)  \n",
        "discounted_price = calculate_discount_price(total)\n",
        "```   \n",
        "\n",
        "**Expected output**:  \n",
        "Discounted price: £ 12.60\n",
        "\n",
        "**Test input**:  \n",
        "Test with a product_price of 8.99, 10 items, and enter a discount of 50%  \n",
        "```\n",
        "total = calculate_price(8.99, 10)\n",
        "discounted_price = calculate_discount_price(total)\n",
        "```\n",
        "\n",
        "**Expected output**:  \n",
        "Discounted price: £ 89.90  "
      ]
    },
    {
      "cell_type": "code",
      "metadata": {
        "id": "Jx0ZSYl0FvjD"
      },
      "source": [],
      "execution_count": null,
      "outputs": []
    },
    {
      "cell_type": "markdown",
      "source": [
        "## Your thoughts on what you have learnt\n",
        "Please add some comments in the box below to reflect on what you have learnt through completing this worksheet, and any problems you encountered while doing so."
      ],
      "metadata": {
        "id": "U_J4qlpgvtWP"
      }
    },
    {
      "cell_type": "markdown",
      "source": [],
      "metadata": {
        "id": "sKMXhunpvuWV"
      }
    }
  ]
}